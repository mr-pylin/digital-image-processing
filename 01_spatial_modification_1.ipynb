{
 "cells": [
  {
   "cell_type": "markdown",
   "metadata": {},
   "source": [
    "# Dependencies"
   ]
  },
  {
   "cell_type": "code",
   "execution_count": null,
   "metadata": {},
   "outputs": [],
   "source": [
    "# global dependencies\n",
    "import numpy as np\n",
    "import matplotlib.pyplot as plt\n",
    "from matplotlib.gridspec import GridSpec\n",
    "from PIL import Image"
   ]
  },
  {
   "cell_type": "code",
   "execution_count": null,
   "metadata": {},
   "outputs": [],
   "source": [
    "# local dependencies\n",
    "from utilities.spatial_modification import inner_rotate, outer_rotate, nearest_neighbor_interpolation"
   ]
  },
  {
   "cell_type": "code",
   "execution_count": null,
   "metadata": {},
   "outputs": [],
   "source": [
    "# to stop printing the last returned value in each cell to the output\n",
    "from IPython.core.interactiveshell import InteractiveShell\n",
    "InteractiveShell.ast_node_interactivity = \"none\""
   ]
  },
  {
   "cell_type": "markdown",
   "metadata": {},
   "source": [
    "# Load Images"
   ]
  },
  {
   "cell_type": "code",
   "execution_count": null,
   "metadata": {},
   "outputs": [],
   "source": [
    "cm = plt.imread('./resources/CH02_Fig0222(b)(cameraman).tif')\n",
    "lenna = plt.imread('./resources/CH06_Fig0638(a)(lenna_RGB).tif')\n",
    "\n",
    "# plot\n",
    "fig, axs = plt.subplots(nrows= 1, ncols= 2, figsize= (6, 3), layout= 'compressed')\n",
    "\n",
    "axs[0].imshow(cm, vmin= 0, vmax= 255, cmap= 'gray')\n",
    "axs[0].set_title('cameraman.tif')\n",
    "axs[1].imshow(lenna, vmin= 0, vmax= 255)\n",
    "axs[1].set_title('lenna')\n",
    "\n",
    "for ax in fig.axes:\n",
    "    ax.set_xticks([])\n",
    "    ax.set_yticks([])\n",
    "\n",
    "plt.show()"
   ]
  },
  {
   "cell_type": "markdown",
   "metadata": {},
   "source": [
    "# Crop"
   ]
  },
  {
   "cell_type": "code",
   "execution_count": null,
   "metadata": {},
   "outputs": [],
   "source": [
    "cm_crop_1 = cm[:128, :128]\n",
    "cm_crop_2 = cm[64:192, 64:192]\n",
    "cm_crop_3 = cm[50:100, 100:150]\n",
    "\n",
    "# plot\n",
    "fig, axs = plt.subplots(nrows= 1, ncols= 4, figsize= (14, 4), layout= 'compressed')\n",
    "fig.suptitle('CROP')\n",
    "\n",
    "axs[0].imshow(cm, vmin= 0, vmax= 255, cmap= 'gray')\n",
    "axs[0].set_title('cm', fontdict= {'family': 'consolas'})\n",
    "axs[1].imshow(cm_crop_1, vmin= 0, vmax= 255, cmap= 'gray')\n",
    "axs[1].set_title('cm[:128, :128]', fontdict= {'family': 'consolas'})\n",
    "axs[2].imshow(cm_crop_2, vmin= 0, vmax= 255, cmap= 'gray')\n",
    "axs[2].set_title('cm[64:192, 64:192]', fontdict= {'family': 'consolas'})\n",
    "axs[3].imshow(cm_crop_3, vmin= 0, vmax= 255, cmap= 'gray')\n",
    "axs[3].set_title('cm[50:100, 100:150]', fontdict= {'family': 'consolas'})\n",
    "\n",
    "for ax in fig.axes:\n",
    "    ax.set_xticks([])\n",
    "    ax.set_yticks([])\n",
    "\n",
    "plt.show()"
   ]
  },
  {
   "cell_type": "markdown",
   "metadata": {},
   "source": [
    "# Flip"
   ]
  },
  {
   "cell_type": "code",
   "execution_count": null,
   "metadata": {},
   "outputs": [],
   "source": [
    "cm_flip_1 = cm[::-1]       # same as <arr_cm[256:None:-1, :]>\n",
    "cm_flip_2 = cm[:, ::-1]    # same as <arr_cm[:, 255:None:-1]>\n",
    "cm_flip_3 = cm[::-1, ::-1]"
   ]
  },
  {
   "cell_type": "code",
   "execution_count": null,
   "metadata": {},
   "outputs": [],
   "source": [
    "fig, ax = plt.subplots(nrows= 1, ncols= 4, figsize= (14, 4), layout= 'compressed')\n",
    "fig.suptitle('Flip')\n",
    "\n",
    "ax[0].imshow(cm, vmin= 0, vmax= 255, cmap= 'gray')\n",
    "ax[0].set_title('cm', fontdict= {'family': 'consolas'})\n",
    "ax[1].imshow(cm_flip_1, vmin= 0, vmax= 255, cmap= 'gray')\n",
    "ax[1].set_title('cm[::-1]', fontdict= {'family': 'consolas'})\n",
    "ax[2].imshow(cm_flip_2, vmin= 0, vmax= 255, cmap= 'gray')\n",
    "ax[2].set_title('cm[:, ::-1]', fontdict= {'family': 'consolas'})\n",
    "ax[3].imshow(cm_flip_3, vmin= 0, vmax= 255, cmap= 'gray')\n",
    "ax[3].set_title('cm[::-1, ::-1]', fontdict= {'family': 'consolas'})\n",
    "\n",
    "for ax in fig.axes:\n",
    "    ax.set_xticks([])\n",
    "    ax.set_yticks([])\n",
    "\n",
    "plt.show()"
   ]
  },
  {
   "cell_type": "markdown",
   "metadata": {},
   "source": [
    "# Circular Shift"
   ]
  },
  {
   "cell_type": "code",
   "execution_count": null,
   "metadata": {},
   "outputs": [],
   "source": [
    "cm_cshift_1 = np.zeros_like(cm)\n",
    "cm_cshift_2 = np.zeros_like(cm)\n",
    "cm_cshift_3 = np.zeros_like(cm)\n",
    "\n",
    "cm_cshift_1[128:]   , cm_cshift_1[:128]    = cm[:128]         , cm[128:]\n",
    "cm_cshift_2[:, 128:], cm_cshift_2[:, :128] = cm[:, :128]      , cm[:, 128:]\n",
    "cm_cshift_3[128:]   , cm_cshift_3[:128]    = cm_cshift_2[:128], cm_cshift_2[128:]"
   ]
  },
  {
   "cell_type": "code",
   "execution_count": null,
   "metadata": {},
   "outputs": [],
   "source": [
    "fig, ax = plt.subplots(nrows= 1, ncols= 4, figsize= (14, 4), layout= 'compressed')\n",
    "fig.suptitle(\"Rotational Shift\")\n",
    "\n",
    "ax[0].imshow(cm, vmin= 0, vmax= 255, cmap= 'gray')\n",
    "ax[0].set_title('cm', fontdict= {'family': 'consolas'})\n",
    "ax[1].imshow(cm_cshift_1, vmin= 0, vmax= 255, cmap= 'gray')\n",
    "ax[1].set_title('cm_cshift_1', fontdict= {'family': 'consolas'})\n",
    "ax[2].imshow(cm_cshift_2, vmin= 0, vmax= 255, cmap= 'gray')\n",
    "ax[2].set_title('cm_cshift_2', fontdict= {'family': 'consolas'})\n",
    "ax[3].imshow(cm_cshift_3, vmin= 0, vmax= 255, cmap= 'gray')\n",
    "ax[3].set_title('cm_cshift_3', fontdict= {'family': 'consolas'})\n",
    "\n",
    "for ax in fig.axes:\n",
    "    ax.set_xticks([])\n",
    "    ax.set_yticks([])\n",
    "\n",
    "plt.show()"
   ]
  },
  {
   "cell_type": "markdown",
   "metadata": {},
   "source": [
    "# Rotate"
   ]
  },
  {
   "cell_type": "code",
   "execution_count": null,
   "metadata": {},
   "outputs": [],
   "source": [
    "# outer rotation\n",
    "cm_orotate_45  = outer_rotate(img= cm, degree= 45)\n",
    "cm_orotate_90  = outer_rotate(img= cm, degree= 90)\n",
    "cm_orotate_257 = outer_rotate(img= cm, degree= 257)\n",
    "\n",
    "# inner rotation\n",
    "cm_irotate_45  = inner_rotate(img= cm, degree= 45)\n",
    "cm_irotate_90  = inner_rotate(img= cm, degree= 90)\n",
    "cm_irotate_257 = inner_rotate(img= cm, degree= 257)"
   ]
  },
  {
   "cell_type": "code",
   "execution_count": null,
   "metadata": {},
   "outputs": [],
   "source": [
    "fig, axs = plt.subplots(nrows= 2, ncols= 3, figsize= (14, 10), layout= 'compressed')\n",
    "fig.suptitle('Rotate')\n",
    "\n",
    "axs[0, 0].imshow(cm_orotate_45, vmin= 0, vmax= 255, cmap= 'gray')\n",
    "axs[0, 0].set_title(\"outer rotate: 45 degree\")\n",
    "axs[0, 1].imshow(cm_orotate_90, vmin= 0, vmax= 255, cmap= 'gray')\n",
    "axs[0, 1].set_title(\"outer rotate: 90 degree\")\n",
    "axs[0, 2].imshow(cm_orotate_257, vmin= 0, vmax= 255, cmap= 'gray')\n",
    "axs[0, 2].set_title(\"outer rotate: 257 degree\")\n",
    "axs[1, 0].imshow(cm_irotate_45, vmin= 0, vmax= 255, cmap= 'gray')\n",
    "axs[1, 0].set_title(\"outer rotate: 45 degree\")\n",
    "axs[1, 1].imshow(cm_irotate_90, vmin= 0, vmax= 255, cmap= 'gray')\n",
    "axs[1, 1].set_title(\"outer rotate: 90 degree\")\n",
    "axs[1, 2].imshow(cm_irotate_257, vmin= 0, vmax= 255, cmap= 'gray')\n",
    "axs[1, 2].set_title(\"outer rotate: 257 degree\")\n",
    "\n",
    "for ax in fig.axes:\n",
    "    ax.set_xticks([])\n",
    "    ax.set_yticks([])\n",
    "\n",
    "plt.show()"
   ]
  },
  {
   "cell_type": "markdown",
   "metadata": {},
   "source": [
    "# Image Interpolation\n",
    "It refers to the “guess” of intensity values at missing locations When resizing an image [Mostly in Down Scaling]\n",
    "   - Nearest Neighbor interpolation\n",
    "   - Bilinear interpolation\n",
    "   - Bicubic interpolation\n",
    "   - Lanczos interpolation\n",
    "   - ..."
   ]
  },
  {
   "cell_type": "markdown",
   "metadata": {},
   "source": [
    "## Nearest Neighbor Interpolation"
   ]
  },
  {
   "cell_type": "code",
   "execution_count": null,
   "metadata": {},
   "outputs": [],
   "source": [
    "cm_nni_1 = nearest_neighbor_interpolation(cm, 128, 128)\n",
    "cm_nni_2 = nearest_neighbor_interpolation(cm, 32, 32)\n",
    "cm_nni_3 = nearest_neighbor_interpolation(cm, 555, 555)\n",
    "cm_nni_4 = nearest_neighbor_interpolation(cm, 256, 128)\n",
    "cm_nni_5 = nearest_neighbor_interpolation(cm, 128, 256)\n",
    "cm_nni_6 = nearest_neighbor_interpolation(cm, 64, 512)\n",
    "\n",
    "# plot\n",
    "fig = plt.figure(figsize= (16, 8), layout= 'compressed')\n",
    "fig.suptitle(\"Nearest Neighbor Interpolation\")\n",
    "\n",
    "gs = GridSpec(2, 4, figure= fig)\n",
    "ax1 = fig.add_subplot(gs[:, 0])\n",
    "ax2 = fig.add_subplot(gs[0, 1])\n",
    "ax3 = fig.add_subplot(gs[0, 2])\n",
    "ax4 = fig.add_subplot(gs[0, 3])\n",
    "ax5 = fig.add_subplot(gs[1, 1])\n",
    "ax6 = fig.add_subplot(gs[1, 2])\n",
    "ax7 = fig.add_subplot(gs[1, 3])\n",
    "\n",
    "ax1.imshow(cm, cmap= 'gray', vmin= 0, vmax= 255)\n",
    "ax1.set_title(f\"Original {cm.shape}\")\n",
    "ax2.imshow(cm_nni_1, cmap= 'gray', vmin= 0, vmax= 255)\n",
    "ax2.set_title(f\"{cm_nni_1.shape} [down scaled]\")\n",
    "ax3.imshow(cm_nni_2, cmap= 'gray', vmin= 0, vmax= 255)\n",
    "ax3.set_title(f\"{cm_nni_2.shape} [down scaled]\")\n",
    "ax4.imshow(cm_nni_3, cmap= 'gray', vmin= 0, vmax= 255)\n",
    "ax4.set_title(f\"{cm_nni_3.shape} [up Scaled]\")\n",
    "ax5.imshow(cm_nni_4, cmap= 'gray', vmin= 0, vmax= 255)\n",
    "ax5.set_title(f\"{cm_nni_4.shape}\")\n",
    "ax6.imshow(cm_nni_5, cmap= 'gray', vmin= 0, vmax= 255)\n",
    "ax6.set_title(f\"{cm_nni_5.shape}\")\n",
    "ax7.imshow(cm_nni_6, cmap= 'gray', vmin= 0, vmax= 255)\n",
    "ax7.set_title(f\"{cm_nni_6.shape}\")\n",
    "\n",
    "plt.show()"
   ]
  },
  {
   "cell_type": "code",
   "execution_count": null,
   "metadata": {},
   "outputs": [],
   "source": [
    "lenna_nni_1 = nearest_neighbor_interpolation(lenna, 128, 128).astype(np.uint8)\n",
    "lenna_nni_2 = nearest_neighbor_interpolation(lenna, 32, 32).astype(np.uint8)\n",
    "lenna_nni_3 = nearest_neighbor_interpolation(lenna, 555, 555).astype(np.uint8)\n",
    "lenna_nni_4 = nearest_neighbor_interpolation(lenna, 256, 128).astype(np.uint8)\n",
    "lenna_nni_5 = nearest_neighbor_interpolation(lenna, 128, 256).astype(np.uint8)\n",
    "lenna_nni_6 = nearest_neighbor_interpolation(lenna, 64, 512).astype(np.uint8)\n",
    "\n",
    "# plot\n",
    "fig = plt.figure(figsize= (16, 8), layout= 'compressed')\n",
    "fig.suptitle(\"Nearest Neighbor Interpolation\")\n",
    "\n",
    "gs = GridSpec(2, 4, figure= fig)\n",
    "ax1 = fig.add_subplot(gs[:, 0])\n",
    "ax2 = fig.add_subplot(gs[0, 1])\n",
    "ax3 = fig.add_subplot(gs[0, 2])\n",
    "ax4 = fig.add_subplot(gs[0, 3])\n",
    "ax5 = fig.add_subplot(gs[1, 1])\n",
    "ax6 = fig.add_subplot(gs[1, 2])\n",
    "ax7 = fig.add_subplot(gs[1, 3])\n",
    "\n",
    "ax1.imshow(lenna, cmap= 'gray', vmin= 0, vmax= 255)\n",
    "ax1.set_title(f\"Original {lenna.shape}\")\n",
    "ax2.imshow(lenna_nni_1, cmap= 'gray', vmin= 0, vmax= 255)\n",
    "ax2.set_title(f\"{lenna_nni_1.shape} [down scaled]\")\n",
    "ax3.imshow(lenna_nni_2, cmap= 'gray', vmin= 0, vmax= 255)\n",
    "ax3.set_title(f\"{lenna_nni_2.shape} [down scaled]\")\n",
    "ax4.imshow(lenna_nni_3, cmap= 'gray', vmin= 0, vmax= 255)\n",
    "ax4.set_title(f\"{lenna_nni_3.shape} [up Scaled]\")\n",
    "ax5.imshow(lenna_nni_4, cmap= 'gray', vmin= 0, vmax= 255)\n",
    "ax5.set_title(f\"{lenna_nni_4.shape}\")\n",
    "ax6.imshow(lenna_nni_5, cmap= 'gray', vmin= 0, vmax= 255)\n",
    "ax6.set_title(f\"{lenna_nni_5.shape}\")\n",
    "ax7.imshow(lenna_nni_6, cmap= 'gray', vmin= 0, vmax= 255)\n",
    "ax7.set_title(f\"{lenna_nni_6.shape}\")\n",
    "\n",
    "plt.show()"
   ]
  },
  {
   "cell_type": "markdown",
   "metadata": {},
   "source": [
    "## Interpolations Comparison"
   ]
  },
  {
   "cell_type": "code",
   "execution_count": null,
   "metadata": {},
   "outputs": [],
   "source": [
    "# convert np.ndarray to pil.Image\n",
    "cm_pil = Image.fromarray(cm)\n",
    "\n",
    "# several interpolations(resamplings)\n",
    "cm_nni_downscale = cm_pil.resize((100, 100), Image.Resampling.NEAREST)\n",
    "cm_bli_downscale = cm_pil.resize((100, 100), Image.Resampling.BILINEAR)\n",
    "cm_bci_downscale = cm_pil.resize((100, 100), Image.Resampling.BICUBIC)\n",
    "cm_li_downscale  = cm_pil.resize((100, 100), Image.Resampling.LANCZOS)\n",
    "\n",
    "# plot\n",
    "fig, ax = plt.subplots(nrows= 1, ncols= 4, figsize= (14, 4), layout= 'compressed')\n",
    "\n",
    "ax[0].imshow(cm_nni_downscale, vmin= 0, vmax= 255, cmap= 'gray')\n",
    "ax[0].set_title('NEAREST')\n",
    "ax[1].imshow(cm_bli_downscale, vmin= 0, vmax= 255, cmap= 'gray')\n",
    "ax[1].set_title('BILINEAR')\n",
    "ax[2].imshow(cm_bci_downscale, vmin= 0, vmax= 255, cmap= 'gray')\n",
    "ax[2].set_title('BICUBIC')\n",
    "ax[3].imshow(cm_li_downscale, vmin= 0, vmax= 255, cmap= 'gray')\n",
    "ax[3].set_title('LANCZOS')\n",
    "\n",
    "for ax in fig.axes:\n",
    "    ax.set_xticks([])\n",
    "    ax.set_yticks([])\n",
    "\n",
    "plt.show()"
   ]
  }
 ],
 "metadata": {
  "kernelspec": {
   "display_name": "Python 3",
   "language": "python",
   "name": "python3"
  },
  "language_info": {
   "codemirror_mode": {
    "name": "ipython",
    "version": 3
   },
   "file_extension": ".py",
   "mimetype": "text/x-python",
   "name": "python",
   "nbconvert_exporter": "python",
   "pygments_lexer": "ipython3",
   "version": "3.12.2"
  }
 },
 "nbformat": 4,
 "nbformat_minor": 2
}
