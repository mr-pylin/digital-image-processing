{
 "cells": [
  {
   "cell_type": "markdown",
   "metadata": {},
   "source": [
    "# Dependencies"
   ]
  },
  {
   "cell_type": "code",
   "execution_count": null,
   "metadata": {},
   "outputs": [],
   "source": [
    "# global dependencies\n",
    "import numpy as np\n",
    "import matplotlib.pyplot as plt\n",
    "import scipy as sp"
   ]
  },
  {
   "cell_type": "code",
   "execution_count": null,
   "metadata": {},
   "outputs": [],
   "source": [
    "# local dependencies\n",
    "from utilities.filters import gaussian as gaussian_filter"
   ]
  },
  {
   "cell_type": "code",
   "execution_count": null,
   "metadata": {},
   "outputs": [],
   "source": [
    "# to stop printing the last returned value in each cell to the output\n",
    "from IPython.core.interactiveshell import InteractiveShell\n",
    "InteractiveShell.ast_node_interactivity = \"none\""
   ]
  },
  {
   "cell_type": "markdown",
   "metadata": {},
   "source": [
    "# fft instead of circular convolution"
   ]
  },
  {
   "cell_type": "code",
   "execution_count": null,
   "metadata": {},
   "outputs": [],
   "source": [
    "# load cameraman.tif\n",
    "cm = plt.imread('./resources/CH02_Fig0222(b)(cameraman).tif')\n",
    "\n",
    "# create a gaussian noise\n",
    "gaussian_noise = np.random.normal(loc= 0, scale= 10, size= cm.shape)\n",
    "\n",
    "# apply gaussian noise to the image\n",
    "noisy_cm = (cm + gaussian_noise).clip(0, 255).astype(np.uint8)\n",
    "\n",
    "# plot\n",
    "fig, axs = plt.subplots(nrows= 1, ncols= 2, figsize= (8, 4), layout= 'compressed')\n",
    "\n",
    "axs[0].imshow(cm, cmap= 'gray')\n",
    "axs[0].set_title('Original image')\n",
    "axs[1].imshow(noisy_cm, cmap= 'gray')\n",
    "axs[1].set_title('Noisy image')\n",
    "\n",
    "for ax in fig.axes:\n",
    "    ax.axis('off')\n",
    "\n",
    "plt.show()"
   ]
  },
  {
   "cell_type": "code",
   "execution_count": null,
   "metadata": {},
   "outputs": [],
   "source": [
    "# smooth in spatial domain [using convolution]\n",
    "glpf = gaussian_filter(size= (5, 5), sigma= 1, norm= True)\n",
    "\n",
    "# convolution\n",
    "denoised_cm_1 = sp.signal.convolve2d(noisy_cm, glpf, mode= 'same', boundary= 'fill')\n",
    "\n",
    "# clip and dtype\n",
    "denoised_cm_1 = denoised_cm_1.clip(0, 255).astype(np.uint8)\n",
    "\n",
    "# plot\n",
    "fig, axs = plt.subplots(nrows= 1, ncols= 3, figsize= (16, 8), layout= 'compressed')\n",
    "\n",
    "axs[0].imshow(cm, cmap= 'gray')\n",
    "axs[0].set_title('Original image')\n",
    "axs[1].imshow(noisy_cm, cmap= 'gray')\n",
    "axs[1].set_title('Noisy image')\n",
    "axs[2].imshow(denoised_cm_1, cmap= 'gray')\n",
    "axs[2].set_title('Denoised image')\n",
    "\n",
    "for ax in fig.axes:\n",
    "    ax.axis('off')\n",
    "\n",
    "plt.show()"
   ]
  },
  {
   "cell_type": "code",
   "execution_count": null,
   "metadata": {},
   "outputs": [],
   "source": [
    "# smooth in frequency domain [using fft instead of circular convolution]\n",
    "\n",
    "# image size : MxM, filter size : NxN -> upscale to (M+N-1, M+N-1)\n",
    "size = (cm.shape[0] + glpf.shape[1] - 1, cm.shape[0] + glpf.shape[1] - 1)\n",
    "\n",
    "# pad noisy image to size M+N-1\n",
    "padded_noisy_cm = np.zeros(shape= size)\n",
    "padded_noisy_cm[:cm.shape[0], :cm.shape[1]] = noisy_cm\n",
    "\n",
    "# pad filter to size M+N-1\n",
    "padded_glpf = np.zeros(shape= size)\n",
    "padded_glpf[:glpf.shape[0], :glpf.shape[1]] = glpf\n",
    "\n",
    "# plot\n",
    "fig, axs = plt.subplots(nrows= 1, ncols= 2, figsize= (8, 4), layout= 'compressed')\n",
    "\n",
    "axs[0].imshow(padded_noisy_cm, cmap= 'gray')\n",
    "axs[0].set_title('padded noisy image')\n",
    "axs[1].imshow(padded_glpf, cmap= 'gray')\n",
    "axs[1].set_title('padded filter')\n",
    "axs[1].add_artist(plt.arrow(40, 40, -25, -25, color='red', head_width=10, head_length=10))\n",
    "\n",
    "for ax in fig.axes:\n",
    "    ax.axis('off')\n",
    "\n",
    "plt.show()"
   ]
  },
  {
   "cell_type": "code",
   "execution_count": null,
   "metadata": {},
   "outputs": [],
   "source": [
    "# fft\n",
    "fft_padded_noisy_cm = np.fft.fftshift(np.fft.fft2(padded_noisy_cm))\n",
    "abs_fft_padded_noisy_cm = np.abs(fft_padded_noisy_cm)\n",
    "\n",
    "fft_padded_glpf = np.fft.fftshift(np.fft.fft2(padded_glpf))\n",
    "abs_fft_padded_glpf = np.abs(fft_padded_glpf)\n",
    "\n",
    "fft_multiplication = np.multiply(fft_padded_noisy_cm, fft_padded_glpf)\n",
    "abs_fft_multiplication = np.abs(fft_multiplication)\n",
    "\n",
    "# plot\n",
    "fig, axs = plt.subplots(nrows= 1, ncols= 3, figsize= (16, 8), layout= 'compressed')\n",
    "\n",
    "axs[0].imshow(np.log2(abs_fft_padded_noisy_cm + 1), cmap= 'gray')\n",
    "axs[0].set_title('Magnitude(noisy_cm)')\n",
    "axs[1].imshow(np.log2(abs_fft_padded_glpf + 1), cmap= 'gray')\n",
    "axs[1].set_title('Magnitude(filter)')\n",
    "axs[2].imshow(np.log2(abs_fft_multiplication + 1), cmap= 'gray')\n",
    "axs[2].set_title('Magnitude(noisy_cm * filter)')\n",
    "\n",
    "for ax in fig.axes:\n",
    "    ax.axis('off')\n",
    "\n",
    "plt.show()"
   ]
  },
  {
   "cell_type": "code",
   "execution_count": null,
   "metadata": {},
   "outputs": [],
   "source": [
    "# reconstruction\n",
    "ifft_noisy_cm = np.fft.ifft2(np.fft.ifftshift(fft_multiplication)).real\n",
    "\n",
    "# downscale to size: cm.shape\n",
    "ifft_noisy_cm = ifft_noisy_cm[glpf.shape[0] // 2:cm.shape[0] + glpf.shape[0] // 2, glpf.shape[1] // 2:cm.shape[1] + glpf.shape[1] // 2]\n",
    "\n",
    "# clip & dtype\n",
    "denoised_cm_2 = ifft_noisy_cm.clip(0, 255).astype(np.uint8)\n",
    "\n",
    "# plot\n",
    "fig, axs = plt.subplots(nrows= 1, ncols= 3, figsize= (16, 8), layout= 'compressed')\n",
    "\n",
    "axs[0].imshow(noisy_cm, cmap= 'gray')\n",
    "axs[0].set_title('Noisy image')\n",
    "axs[1].imshow(denoised_cm_1, cmap= 'gray')\n",
    "axs[1].set_title('Denoised [convolution]')\n",
    "axs[2].imshow(denoised_cm_2, cmap= 'gray')\n",
    "axs[2].set_title('Denoised [fft]')\n",
    "\n",
    "for ax in fig.axes:\n",
    "    ax.axis('off')\n",
    "\n",
    "plt.show()"
   ]
  }
 ],
 "metadata": {
  "kernelspec": {
   "display_name": "Python 3",
   "language": "python",
   "name": "python3"
  },
  "language_info": {
   "codemirror_mode": {
    "name": "ipython",
    "version": 3
   },
   "file_extension": ".py",
   "mimetype": "text/x-python",
   "name": "python",
   "nbconvert_exporter": "python",
   "pygments_lexer": "ipython3",
   "version": "3.12.2"
  }
 },
 "nbformat": 4,
 "nbformat_minor": 2
}
