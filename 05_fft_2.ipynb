{
 "cells": [
  {
   "cell_type": "markdown",
   "metadata": {},
   "source": [
    "# Dependencies"
   ]
  },
  {
   "cell_type": "code",
   "execution_count": null,
   "metadata": {},
   "outputs": [],
   "source": [
    "# global dependencies\n",
    "import numpy as np\n",
    "import matplotlib.pyplot as plt"
   ]
  },
  {
   "cell_type": "code",
   "execution_count": null,
   "metadata": {},
   "outputs": [],
   "source": [
    "# to stop printing the last returned value in each cell to the output\n",
    "from IPython.core.interactiveshell import InteractiveShell\n",
    "InteractiveShell.ast_node_interactivity = \"none\""
   ]
  },
  {
   "cell_type": "markdown",
   "metadata": {},
   "source": [
    "# Discrete Fourier Transform (DFT)\n",
    "   - Discrete Fourier Transform (DFT) is calculated using the efficient Fast Fourier Transform (FFT) algorithm."
   ]
  },
  {
   "cell_type": "code",
   "execution_count": null,
   "metadata": {},
   "outputs": [],
   "source": [
    "# ideal signal\n",
    "signal_length = 200\n",
    "ideal_signal = np.zeros(shape= (signal_length,))\n",
    "ideal_signal[:signal_length // 10] = 1\n",
    "\n",
    "# fft\n",
    "fft_ideal_signal = np.fft.fft(ideal_signal)\n",
    "\n",
    "# shift the low frequencies to the center\n",
    "fftshift_ideal_signal = np.fft.fftshift(fft_ideal_signal)\n",
    "\n",
    "# magnitude of the signal\n",
    "mag_fft_ideal_signal      = np.abs(fft_ideal_signal)\n",
    "mag_fftshift_ideal_signal = np.abs(fftshift_ideal_signal)\n",
    "\n",
    "# phase of the signal\n",
    "phase_fft_ideal_signal      = np.angle(fft_ideal_signal)\n",
    "phase_fftshift_ideal_signal = np.angle(fftshift_ideal_signal)\n",
    "\n",
    "# reconstruct the signal\n",
    "reconstructed_ideal_signal = np.fft.ifft(np.fft.ifftshift(fftshift_ideal_signal)).real"
   ]
  },
  {
   "cell_type": "code",
   "execution_count": null,
   "metadata": {},
   "outputs": [],
   "source": [
    "fig, axs = plt.subplots(nrows= 1, ncols= 3, figsize= (16, 4), layout= 'compressed')\n",
    "\n",
    "axs[0].plot(ideal_signal)\n",
    "axs[0].set_title('Original signal')\n",
    "axs[1].plot(fftshift_ideal_signal.real)\n",
    "axs[1].set_title('fft [real]')\n",
    "axs[2].plot(fftshift_ideal_signal.imag)\n",
    "axs[2].set_title('fft [imaginary]')\n",
    "\n",
    "plt.show()"
   ]
  },
  {
   "cell_type": "code",
   "execution_count": null,
   "metadata": {},
   "outputs": [],
   "source": [
    "fig, axs = plt.subplots(nrows= 1, ncols= 3, figsize= (16, 4), layout= 'compressed')\n",
    "\n",
    "axs[0].plot(ideal_signal)\n",
    "axs[0].set_title('Original signal')\n",
    "axs[1].plot(mag_fft_ideal_signal)\n",
    "axs[1].set_title('Magnitude')\n",
    "axs[2].plot(mag_fftshift_ideal_signal)\n",
    "axs[2].set_title('Magnitude [fftshift]')\n",
    "\n",
    "plt.show()"
   ]
  },
  {
   "cell_type": "code",
   "execution_count": null,
   "metadata": {},
   "outputs": [],
   "source": [
    "fig, axs = plt.subplots(nrows= 1, ncols= 3, figsize= (16, 4), layout= 'compressed')\n",
    "\n",
    "axs[0].plot(ideal_signal)\n",
    "axs[0].set_title('Original signal')\n",
    "axs[1].plot(mag_fftshift_ideal_signal)\n",
    "axs[1].set_title('Magnitude [shifted version]')\n",
    "axs[2].plot(phase_fftshift_ideal_signal)\n",
    "axs[2].set_title('Phase [shifted version]')\n",
    "\n",
    "plt.show()"
   ]
  },
  {
   "cell_type": "code",
   "execution_count": null,
   "metadata": {},
   "outputs": [],
   "source": [
    "fig, axs = plt.subplots(nrows= 1, ncols= 3, figsize= (16, 4), layout= 'compressed')\n",
    "\n",
    "axs[0].plot(ideal_signal)\n",
    "axs[0].set_title('Original signal')\n",
    "axs[1].plot(mag_fftshift_ideal_signal)\n",
    "axs[1].set_title('Magnitude [shifted version]')\n",
    "axs[2].plot(reconstructed_ideal_signal)\n",
    "axs[2].set_title('Reconstructed signal')\n",
    "\n",
    "plt.show()"
   ]
  },
  {
   "cell_type": "code",
   "execution_count": null,
   "metadata": {},
   "outputs": [],
   "source": [
    "# sinc signal\n",
    "signal_length = 200\n",
    "t = np.linspace(-20, 20, signal_length)\n",
    "sinc_signal = np.sinc(t)\n",
    "\n",
    "# fft\n",
    "fft_sinc_signal = np.fft.fft(sinc_signal)\n",
    "\n",
    "# shift the low frequencies to the center\n",
    "fftshift_sinc_signal = np.fft.fftshift(fft_sinc_signal)\n",
    "\n",
    "# magnitude of the signal\n",
    "mag_fftshift_sinc_signal = np.abs(fftshift_sinc_signal)\n",
    "\n",
    "# phase of the signal\n",
    "phase_fftshift_sinc_signal = np.angle(fftshift_sinc_signal)\n",
    "\n",
    "# reconstruct the signal\n",
    "reconstructed_sinc_signal = np.fft.ifft(fft_sinc_signal).real"
   ]
  },
  {
   "cell_type": "code",
   "execution_count": null,
   "metadata": {},
   "outputs": [],
   "source": [
    "fig, axs = plt.subplots(nrows= 1, ncols= 3, figsize= (16, 4), layout= 'compressed')\n",
    "\n",
    "axs[0].plot(sinc_signal)\n",
    "axs[0].set_title('Original signal')\n",
    "axs[1].plot(mag_fftshift_sinc_signal)\n",
    "axs[1].set_title('Magnitude [shifted version]')\n",
    "axs[2].plot(reconstructed_sinc_signal)\n",
    "axs[2].set_title('Reconstructed signal')\n",
    "\n",
    "plt.show()"
   ]
  }
 ],
 "metadata": {
  "kernelspec": {
   "display_name": "Python 3",
   "language": "python",
   "name": "python3"
  },
  "language_info": {
   "codemirror_mode": {
    "name": "ipython",
    "version": 3
   },
   "file_extension": ".py",
   "mimetype": "text/x-python",
   "name": "python",
   "nbconvert_exporter": "python",
   "pygments_lexer": "ipython3",
   "version": "3.12.2"
  }
 },
 "nbformat": 4,
 "nbformat_minor": 2
}
