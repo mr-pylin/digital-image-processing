{
 "cells": [
  {
   "cell_type": "markdown",
   "metadata": {},
   "source": [
    "# Dependencies"
   ]
  },
  {
   "cell_type": "code",
   "execution_count": null,
   "metadata": {},
   "outputs": [],
   "source": [
    "# global dependencies\n",
    "import numpy as np\n",
    "import matplotlib.pyplot as plt"
   ]
  },
  {
   "cell_type": "code",
   "execution_count": null,
   "metadata": {},
   "outputs": [],
   "source": [
    "# local dependencies\n",
    "from utilities.dft import fourier_basis_1d, fourier_basis_2d, dft, idft, dft2, idft2"
   ]
  },
  {
   "cell_type": "code",
   "execution_count": null,
   "metadata": {},
   "outputs": [],
   "source": [
    "# to stop printing the last returned value in each cell to the output\n",
    "from IPython.core.interactiveshell import InteractiveShell\n",
    "InteractiveShell.ast_node_interactivity = \"none\""
   ]
  },
  {
   "cell_type": "markdown",
   "metadata": {},
   "source": [
    "# Discrete Fourier Transform (DFT)"
   ]
  },
  {
   "cell_type": "markdown",
   "metadata": {},
   "source": [
    "## 1-dimensional signal"
   ]
  },
  {
   "cell_type": "code",
   "execution_count": null,
   "metadata": {},
   "outputs": [],
   "source": [
    "# create basis vectors with period(N) = 5\n",
    "signal_1d_length = 5\n",
    "basis_vectors = fourier_basis_1d(signal_1d_length)\n",
    "\n",
    "# plot\n",
    "fig, axs = plt.subplots(nrows= 3, ncols= signal_1d_length, figsize= (16, 4), layout= 'compressed')\n",
    "fig.suptitle(\"1D DFT basis vectors\")\n",
    "\n",
    "for i in range(signal_1d_length):\n",
    "    axs[0, i].imshow(basis_vectors[i, :].real.reshape(1, -1), cmap= 'gray', vmin= basis_vectors.real.min(), vmax= basis_vectors.real.max())\n",
    "    axs[0, i].set_title(f\"basis: {i} [real]\")\n",
    "    axs[0, i].set_yticks([])\n",
    "    axs[0, i].set_xticks(range(signal_1d_length))\n",
    "    axs[1, i].imshow(basis_vectors[i, :].imag.reshape(1, -1), cmap= 'gray', vmin= basis_vectors.imag.min(), vmax= basis_vectors.imag.max())\n",
    "    axs[1, i].set_title(f\"basis: {i} [imaginary]\")\n",
    "    axs[1, i].set_yticks([])\n",
    "    axs[1, i].set_xticks(range(signal_1d_length))\n",
    "    axs[2, i].imshow(np.abs(basis_vectors[i, :]).reshape(1, -1), cmap= 'gray', vmin= np.abs(basis_vectors).min(), vmax= np.abs(basis_vectors).max())\n",
    "    axs[2, i].set_title(f\"basis: {i} [magnitude]\")\n",
    "    axs[2, i].set_yticks([])\n",
    "    axs[2, i].set_xticks(range(signal_1d_length))\n",
    "\n",
    "plt.show()"
   ]
  },
  {
   "cell_type": "code",
   "execution_count": null,
   "metadata": {},
   "outputs": [],
   "source": [
    "print(basis_vectors.real)"
   ]
  },
  {
   "cell_type": "code",
   "execution_count": null,
   "metadata": {},
   "outputs": [],
   "source": [
    "print(basis_vectors.imag)"
   ]
  },
  {
   "cell_type": "markdown",
   "metadata": {},
   "source": [
    "## 2-dimensional signal"
   ]
  },
  {
   "cell_type": "code",
   "execution_count": null,
   "metadata": {},
   "outputs": [],
   "source": [
    "# create basis images with period(N, N) = (8, 8)\n",
    "signal_2d_length = 8\n",
    "basis_images = fourier_basis_2d(signal_2d_length)"
   ]
  },
  {
   "cell_type": "code",
   "execution_count": null,
   "metadata": {},
   "outputs": [],
   "source": [
    "fig, axs = plt.subplots(nrows= signal_2d_length, ncols= signal_2d_length, figsize= (16, 18), layout= 'compressed')\n",
    "fig.suptitle(\"2D DFT basis images [real part]\")\n",
    "\n",
    "for i in range(signal_2d_length):\n",
    "    for j in range(signal_2d_length):\n",
    "        axs[i, j].imshow(basis_images[i, j].real.reshape(signal_2d_length, signal_2d_length), cmap= 'gray', vmin= basis_images.real.min(), vmax= basis_images.real.max())\n",
    "        axs[i, j].set_title(f\"basis: {i},{j}\")\n",
    "        axs[i, j].set_yticks([])\n",
    "        axs[i, j].set_xticks([])\n",
    "\n",
    "plt.show()"
   ]
  },
  {
   "cell_type": "code",
   "execution_count": null,
   "metadata": {},
   "outputs": [],
   "source": [
    "fig, axs = plt.subplots(nrows= signal_2d_length, ncols= signal_2d_length, figsize= (16, 18), layout= 'compressed')\n",
    "fig.suptitle(\"1d basis vectors [imaginary part]\")\n",
    "\n",
    "for i in range(signal_2d_length):\n",
    "    for j in range(signal_2d_length):\n",
    "        axs[i, j].imshow(basis_images[i, j].imag.reshape(signal_2d_length, signal_2d_length), cmap= 'gray', vmin= basis_images.imag.min(), vmax= basis_images.imag.max())\n",
    "        axs[i, j].set_title(f\"basis: {i},{j}\")\n",
    "        axs[i, j].set_yticks([])\n",
    "        axs[i, j].set_xticks([])\n",
    "\n",
    "plt.show()"
   ]
  },
  {
   "cell_type": "markdown",
   "metadata": {},
   "source": [
    "## reconstructing 1d signal"
   ]
  },
  {
   "cell_type": "code",
   "execution_count": null,
   "metadata": {},
   "outputs": [],
   "source": [
    "# 1d array of length 5 (N=5 which is considered as the period of the signal)\n",
    "arr1 = np.array([3, 0, 2, 1, 5])\n",
    "\n",
    "# DFT : transform signal from spatial domain to frequency domain\n",
    "dft_arr1 = dft(arr1)\n",
    "\n",
    "# IDFT: transform signal from frequency domain to spatial domain\n",
    "idft_arr1 = idft(dft_arr1)\n",
    "\n",
    "# take only the real part because our original signal is a real part\n",
    "idft_arr1 = idft_arr1.real\n",
    "\n",
    "# clip the signal values in range(0, 5) [in this case we know that for example our original signal must have values in this range]\n",
    "idft_arr1 = idft_arr1.clip(0, 5)\n",
    "\n",
    "# change dtype from float to int (original signal had integer values)\n",
    "idft_arr1 = idft_arr1.astype(np.int32)\n",
    "\n",
    "# plot\n",
    "fig, axs = plt.subplots(nrows= 1, ncols= 3, figsize= (12, 2), layout= 'compressed')\n",
    "fig.suptitle(\"Reconstructing 1D signal\")\n",
    "\n",
    "axs[0].imshow(arr1.reshape(1, -1), cmap= 'gray')\n",
    "axs[0].set_title(\"Original signal\")\n",
    "axs[1].imshow(np.abs(dft_arr1).reshape(1, -1), cmap= 'gray')\n",
    "axs[1].set_title(\"Magnitude in frequency domain\")\n",
    "axs[2].imshow(idft_arr1.reshape(1, -1), cmap= 'gray')\n",
    "axs[2].set_title(\"Reconstructed signal\")\n",
    "\n",
    "for ax in fig.axes:\n",
    "    ax.set_yticks([])\n",
    "\n",
    "plt.show()"
   ]
  },
  {
   "cell_type": "markdown",
   "metadata": {},
   "source": [
    "## reconstructing 2d signal"
   ]
  },
  {
   "cell_type": "code",
   "execution_count": null,
   "metadata": {},
   "outputs": [],
   "source": [
    "# 2d array of length 3x3\n",
    "arr2 = np.array([[1, 1, 3], [2, 1, 2], [2, 3, 3]])\n",
    "\n",
    "# DFT : transform signal from spatial domain to frequency domain\n",
    "dft_arr2 = dft2(arr2)\n",
    "\n",
    "# IDFT: transform signal from frequency domain to spatial domain\n",
    "idft_arr2 = idft2(dft_arr2)\n",
    "\n",
    "# take only the real part because our original signal is a real part\n",
    "idft_arr2 = idft_arr2.real\n",
    "\n",
    "# clip the signal values in range(1, 3) [in this case we know that for example our original signal must have values in this range]\n",
    "idft_arr2 = idft_arr2.clip(1, 3)\n",
    "\n",
    "# change dtype from float to int (original signal had integer values)\n",
    "idft_arr2 = np.round(idft_arr2, 5).astype(np.int32)\n",
    "\n",
    "# plot\n",
    "fig, axs = plt.subplots(nrows= 1, ncols= 3, figsize= (12, 5), layout= 'compressed')\n",
    "fig.suptitle(\"Reconstructing 2D signal\")\n",
    "\n",
    "axs[0].imshow(arr2, cmap= 'gray')\n",
    "axs[0].set_title(\"Original signal\")\n",
    "axs[1].imshow(np.abs(dft_arr2), cmap= 'gray')\n",
    "axs[1].set_title(\"Magnitude in frequency domain\")\n",
    "axs[2].imshow(idft_arr2, cmap= 'gray')\n",
    "axs[2].set_title(\"Reconstructed signal\")\n",
    "\n",
    "for ax in fig.axes:\n",
    "    ax.set_xticks(range(3))\n",
    "    ax.set_yticks(range(3))\n",
    "\n",
    "plt.show()"
   ]
  }
 ],
 "metadata": {
  "kernelspec": {
   "display_name": "Python 3",
   "language": "python",
   "name": "python3"
  },
  "language_info": {
   "codemirror_mode": {
    "name": "ipython",
    "version": 3
   },
   "file_extension": ".py",
   "mimetype": "text/x-python",
   "name": "python",
   "nbconvert_exporter": "python",
   "pygments_lexer": "ipython3",
   "version": "3.12.2"
  }
 },
 "nbformat": 4,
 "nbformat_minor": 2
}
