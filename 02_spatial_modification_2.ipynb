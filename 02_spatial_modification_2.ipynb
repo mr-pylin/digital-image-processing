{
 "cells": [
  {
   "cell_type": "markdown",
   "metadata": {},
   "source": [
    "# Dependencies"
   ]
  },
  {
   "cell_type": "code",
   "execution_count": null,
   "metadata": {},
   "outputs": [],
   "source": [
    "# global dependencies\n",
    "import numpy as np\n",
    "import matplotlib.pyplot as plt\n",
    "from PIL import Image\n",
    "import cv2"
   ]
  },
  {
   "cell_type": "code",
   "execution_count": null,
   "metadata": {},
   "outputs": [],
   "source": [
    "# local dependencies\n",
    "from utilities.spatial_modification import histogram_2d, histogram_scale, histogram_equalization, local_histogram_equalization"
   ]
  },
  {
   "cell_type": "code",
   "execution_count": null,
   "metadata": {},
   "outputs": [],
   "source": [
    "# to stop printing the last returned value in each cell to the output\n",
    "from IPython.core.interactiveshell import InteractiveShell\n",
    "InteractiveShell.ast_node_interactivity = \"none\""
   ]
  },
  {
   "cell_type": "markdown",
   "metadata": {},
   "source": [
    "# Load Images"
   ]
  },
  {
   "cell_type": "code",
   "execution_count": null,
   "metadata": {},
   "outputs": [],
   "source": [
    "einstein = plt.imread('./resources/CH03_Fig0354(a)(einstein_orig).tif')\n",
    "aerial   = plt.imread('./resources/CH03_Fig0309(a)(washed_out_aerial_image).tif')\n",
    "lenna    = plt.imread('./resources/CH06_Fig0638(a)(lenna_RGB).tif')\n",
    "square   = plt.imread('./resources/CH03_Fig0326(a)(embedded_square_noisy_512).tif')\n",
    "\n",
    "# plot\n",
    "fig, ax = plt.subplots(nrows= 1, ncols= 4, figsize= (16, 4), layout= 'constrained')\n",
    "\n",
    "ax[0].imshow(einstein, vmin= 0, vmax= 255, cmap= 'gray')\n",
    "ax[0].set_title('Einstein')\n",
    "ax[1].imshow(aerial, vmin= 0, vmax= 255, cmap= 'gray')\n",
    "ax[1].set_title('City')\n",
    "ax[2].imshow(lenna, vmin= 0, vmax= 255)\n",
    "ax[2].set_title('Lenna')\n",
    "ax[3].imshow(square, vmin= 0, vmax= 255, cmap= 'gray')\n",
    "ax[3].set_title('square')\n",
    "\n",
    "for ax in fig.axes:\n",
    "    ax.set_xticks([])\n",
    "    ax.set_yticks([])\n",
    "\n",
    "plt.show()"
   ]
  },
  {
   "cell_type": "markdown",
   "metadata": {},
   "source": [
    "# Image Enhancement\n",
    "Image enhancement is the procedure of improving the quality for a specific purpose!\n",
    "\n",
    "   - Spatial Domain\n",
    "      - Intensity Transformation\n",
    "      - Histogram Processing\n",
    "      - Spatial FIltering (Convolution)\n",
    "   - Fraquency Domain\n",
    "      - Fourier Transform\n",
    "      - Cosine Transform"
   ]
  },
  {
   "cell_type": "markdown",
   "metadata": {},
   "source": [
    "## Spatial Domain"
   ]
  },
  {
   "cell_type": "markdown",
   "metadata": {},
   "source": [
    "### Intensity Transformation\n",
    "   - Negative\n",
    "   - Logarithm\n",
    "   - Power-Law (Gamma correction)\n",
    "   - Piecewise-Linear"
   ]
  },
  {
   "cell_type": "markdown",
   "metadata": {},
   "source": [
    "#### 1. Negative Transform"
   ]
  },
  {
   "cell_type": "code",
   "execution_count": null,
   "metadata": {},
   "outputs": [],
   "source": [
    "img_depth = 8\n",
    "maximum_intensity = 2 ** img_depth - 1\n",
    "\n",
    "einstein_negative = maximum_intensity - einstein\n",
    "aerial_negative   = maximum_intensity - aerial\n",
    "lenna_negative    = maximum_intensity - lenna\n",
    "\n",
    "# plot\n",
    "fig, ax = plt.subplots(nrows= 2, ncols= 3, figsize= (12, 8), layout= 'constrained')\n",
    "fig.suptitle('Negative')\n",
    "\n",
    "ax[0, 0].imshow(einstein, vmin= 0, vmax= 255, cmap= 'gray')\n",
    "ax[0, 0].set_title('Original')\n",
    "ax[0, 1].imshow(aerial, vmin= 0, vmax= 255, cmap= 'gray')\n",
    "ax[0, 1].set_title('Original')\n",
    "ax[0, 2].imshow(lenna, vmin= 0, vmax= 255)\n",
    "ax[0, 2].set_title('Original')\n",
    "ax[1, 0].imshow(einstein_negative, vmin= 0, vmax= 255, cmap= 'gray')\n",
    "ax[1, 0].set_title('Negative')\n",
    "ax[1, 1].imshow(aerial_negative, vmin= 0, vmax= 255, cmap= 'gray')\n",
    "ax[1, 1].set_title('Negative')\n",
    "ax[1, 2].imshow(lenna_negative, vmin= 0, vmax= 255)\n",
    "ax[1, 2].set_title('Negative')\n",
    "\n",
    "for ax in fig.axes:\n",
    "    ax.set_xticks([])\n",
    "    ax.set_yticks([])\n",
    "\n",
    "plt.show()"
   ]
  },
  {
   "cell_type": "markdown",
   "metadata": {},
   "source": [
    "#### 2. Logarithm Transform\n",
    "It is used to lower the dynamic range. In some cases, especially when working in frequency domain we need to lower the range to be able to see the magnitude spectrum."
   ]
  },
  {
   "cell_type": "code",
   "execution_count": null,
   "metadata": {},
   "outputs": [],
   "source": [
    "einstein_log = 20 * np.log(einstein.astype(np.float64) + 1).astype(np.uint8)\n",
    "aerial_log   = 20 * np.log(aerial.astype(np.float64) + 1).astype(np.uint8)\n",
    "lenna_log    = 20 * np.log(lenna.astype(np.float64) + 1).astype(np.uint8)\n",
    "\n",
    "# plot\n",
    "fig, ax = plt.subplots(nrows= 2, ncols= 3, figsize= (12, 8), layout= 'constrained')\n",
    "fig.suptitle('Logarithm Transform')\n",
    "\n",
    "ax[0, 0].imshow(einstein, vmin= 0, vmax= 255, cmap= 'gray')\n",
    "ax[0, 0].set_title('Original')\n",
    "ax[0, 1].imshow(aerial, vmin= 0, vmax= 255, cmap= 'gray')\n",
    "ax[0, 1].set_title('Original')\n",
    "ax[0, 2].imshow(lenna, vmin= 0, vmax= 255)\n",
    "ax[0, 2].set_title('Original')\n",
    "ax[1, 0].imshow(einstein_log, vmin= 0, vmax= 255, cmap= 'gray')\n",
    "ax[1, 0].set_title('Logarithm')\n",
    "ax[1, 1].imshow(aerial_log, vmin= 0, vmax= 255, cmap= 'gray')\n",
    "ax[1, 1].set_title('Logarithm')\n",
    "ax[1, 2].imshow(lenna_log, vmin= 0, vmax= 255)\n",
    "ax[1, 2].set_title('Logarithm')\n",
    "\n",
    "for ax in fig.axes:\n",
    "    ax.set_xticks([])\n",
    "    ax.set_yticks([])\n",
    "\n",
    "plt.show()"
   ]
  },
  {
   "cell_type": "markdown",
   "metadata": {},
   "source": [
    "#### 3. Power-Law Transform\n",
    "   - 0 < power < 1\n",
    "      - Increase dynamic range of dark areas and decrease dynamic range of light areas\n",
    "      - We get High contrast in the dark areas\n",
    "      - Details in the light areas will be decreased\n",
    "   - power > 1\n",
    "      - Decrease dynamic range of dark areas and Increase dynamic range of light areas\n",
    "      - We get High contrast in the light areas\n",
    "      - Details in the dark areas will be decreased\n",
    "   - power = 1 : Original Image"
   ]
  },
  {
   "cell_type": "code",
   "execution_count": null,
   "metadata": {},
   "outputs": [],
   "source": [
    "# normalize images to range [0, 1]\n",
    "einstein_norm = einstein / np.max(einstein)\n",
    "aerial_norm   = aerial / np.max(aerial)\n",
    "lenna_norm    = lenna / np.max(lenna)"
   ]
  },
  {
   "cell_type": "code",
   "execution_count": null,
   "metadata": {},
   "outputs": [],
   "source": [
    "# Power-Law\n",
    "einstein_power_1 = einstein_norm ** 0.5\n",
    "einstein_power_2 = einstein_norm ** 2\n",
    "\n",
    "aerial_power_1 = aerial_norm ** .5\n",
    "aerial_power_2 = aerial_norm ** 3\n",
    "\n",
    "lenna_power_1 = lenna_norm ** .5\n",
    "lenna_power_2 = lenna_norm ** 2"
   ]
  },
  {
   "cell_type": "code",
   "execution_count": null,
   "metadata": {},
   "outputs": [],
   "source": [
    "# denormalize images to range [0, 255]\n",
    "einstein_power_1 = (einstein_power_1 * 255).astype(np.uint8)\n",
    "einstein_power_2 = (einstein_power_2 * 255).astype(np.uint8)\n",
    "aerial_power_1   = (aerial_power_1 * 255).astype(np.uint8)\n",
    "aerial_power_2   = (aerial_power_2 * 255).astype(np.uint8)\n",
    "lenna_power_1    = (lenna_power_1 * 255).astype(np.uint8)\n",
    "lenna_power_2    = (lenna_power_2 * 255).astype(np.uint8)"
   ]
  },
  {
   "cell_type": "code",
   "execution_count": null,
   "metadata": {},
   "outputs": [],
   "source": [
    "# plot\n",
    "fig, ax = plt.subplots(nrows= 3, ncols= 3, figsize= (12, 12), layout= 'constrained')\n",
    "fig.suptitle('Power-Law Transform')\n",
    "\n",
    "ax[0, 0].imshow(einstein, vmin= 0, vmax= 255, cmap= 'gray')\n",
    "ax[0, 0].set_title('Original')\n",
    "ax[0, 1].imshow(einstein_power_1, vmin= 0, vmax= 255, cmap= 'gray')\n",
    "ax[0, 1].set_title('p=0.5')\n",
    "ax[0, 2].imshow(einstein_power_2, vmin= 0, vmax= 255, cmap= 'gray')\n",
    "ax[0, 2].set_title('p=2')\n",
    "ax[1, 0].imshow(aerial, vmin= 0, vmax= 255, cmap= 'gray')\n",
    "ax[1, 0].set_title('Original')\n",
    "ax[1, 1].imshow(aerial_power_1, vmin= 0, vmax= 255, cmap= 'gray')\n",
    "ax[1, 1].set_title('p=0.5')\n",
    "ax[1, 2].imshow(aerial_power_2, vmin= 0, vmax= 255, cmap= 'gray')\n",
    "ax[1, 2].set_title('p=3')\n",
    "ax[2, 0].imshow(lenna, vmin= 0, vmax= 255)\n",
    "ax[2, 0].set_title('Original')\n",
    "ax[2, 1].imshow(lenna_power_1, vmin= 0, vmax= 255)\n",
    "ax[2, 1].set_title('p=0.5')\n",
    "ax[2, 2].imshow(lenna_power_2, vmin= 0, vmax= 255)\n",
    "ax[2, 2].set_title('p=2')\n",
    "\n",
    "for ax in fig.axes:\n",
    "    ax.set_xticks([])\n",
    "    ax.set_yticks([])\n",
    "\n",
    "plt.show()"
   ]
  },
  {
   "cell_type": "markdown",
   "metadata": {},
   "source": [
    "#### 4. Piecewise-Linear Transform"
   ]
  },
  {
   "cell_type": "code",
   "execution_count": null,
   "metadata": {},
   "outputs": [],
   "source": [
    "# image binarization (quantization)\n",
    "einstein_bin = einstein.copy()\n",
    "einstein_bin[einstein < 140] = 0\n",
    "einstein_bin[einstein >= 140] = 255"
   ]
  },
  {
   "cell_type": "code",
   "execution_count": null,
   "metadata": {},
   "outputs": [],
   "source": [
    "# contrast stretching\n",
    "einstein_stretch = einstein.copy()\n",
    "einstein_stretch[einstein < 50] = 0\n",
    "einstein_stretch[einstein > 200] = 255\n",
    "\n",
    "roi = np.bitwise_and(einstein_stretch >= 50, einstein_stretch <= 200)\n",
    "roi_min = np.min(einstein_stretch[roi])\n",
    "roi_max = np.max(einstein_stretch[roi])\n",
    "\n",
    "einstein_stretch[roi] = ((einstein_stretch[roi] - roi_min) / (roi_max - roi_min)) * 255"
   ]
  },
  {
   "cell_type": "code",
   "execution_count": null,
   "metadata": {},
   "outputs": [],
   "source": [
    "# advanced power-law\n",
    "einstein_pow = einstein.copy()\n",
    "einstein_pow = (einstein_pow - einstein_pow.min()) / (einstein_pow.max() - einstein_pow.min())\n",
    "\n",
    "arr_ct_4_copy = einstein_pow.copy()\n",
    "einstein_pow[arr_ct_4_copy < .5]  = einstein_pow[arr_ct_4_copy < .5] ** 1.5\n",
    "einstein_pow[arr_ct_4_copy >= .5] = einstein_pow[arr_ct_4_copy >= .5] ** .5\n",
    "\n",
    "# Denormalize to the range (0, 255)\n",
    "einstein_pow = (einstein_pow * 255).astype(np.uint8)"
   ]
  },
  {
   "cell_type": "code",
   "execution_count": null,
   "metadata": {},
   "outputs": [],
   "source": [
    "# plot\n",
    "fig, ax = plt.subplots(nrows= 1, ncols= 4, figsize= (12, 5), layout= 'constrained')\n",
    "fig.suptitle(\"Piecewise-Linear Transform\")\n",
    "\n",
    "ax[0].imshow(einstein, vmin= 0, vmax= 255, cmap= 'gray')\n",
    "ax[0].set_title('Original')\n",
    "ax[1].imshow(einstein_bin, vmin= 0, vmax= 255, cmap= 'gray')\n",
    "ax[1].set_title(\"Image binarization\")\n",
    "ax[2].imshow(einstein_stretch, vmin= 0, vmax= 255, cmap= 'gray')\n",
    "ax[2].set_title(\"Contrast stretching\")\n",
    "ax[3].imshow(einstein_pow, vmin= 0, vmax= 255, cmap= 'gray')\n",
    "ax[3].set_title(\"Power-law transform\")\n",
    "\n",
    "for ax in fig.axes:\n",
    "    ax.set_xticks([])\n",
    "    ax.set_yticks([])\n",
    "\n",
    "plt.show()"
   ]
  },
  {
   "cell_type": "markdown",
   "metadata": {},
   "source": [
    "### Histogram Processing\n",
    "   - Histogram Stretching, Shrinking, Sliding\n",
    "   - Global Histogram Equalization\n",
    "   - Local Histogram Equalization (Adaptive Histogram Equalization)\n",
    "   - Adaptive Contrast Enhancement (ACE)\n",
    "   - Historam Matching (Specification)"
   ]
  },
  {
   "cell_type": "markdown",
   "metadata": {},
   "source": [
    "#### Histogram\n",
    "A graphical representation of the number of pixels in an image as a function of their intensity"
   ]
  },
  {
   "cell_type": "code",
   "execution_count": null,
   "metadata": {},
   "outputs": [],
   "source": [
    "# grayscale images\n",
    "einstein_hist  = histogram_2d(einstein, rng= 256) # manual implementation\n",
    "aerial_hist, _ = np.histogram(aerial, bins= 256, range= [0, 255]) # np.histogram\n",
    "\n",
    "# rgb images\n",
    "lenna_r = lenna[:, :, 0]\n",
    "lenna_g = lenna[:, :, 1]\n",
    "lenna_b = lenna[:, :, 2]\n",
    "\n",
    "lenna_r_hist = histogram_2d(lenna_r, rng= 256)\n",
    "lenna_g_hist = histogram_2d(lenna_g, rng= 256)\n",
    "lenna_b_hist = histogram_2d(lenna_b, rng= 256)"
   ]
  },
  {
   "cell_type": "code",
   "execution_count": null,
   "metadata": {},
   "outputs": [],
   "source": [
    "fig, ax = plt.subplots(nrows= 2, ncols= 3, figsize= (12, 8), layout= 'constrained')\n",
    "fig.suptitle('Histogram')\n",
    "\n",
    "ax[0, 0].imshow(einstein, vmin= 0, vmax= 255, cmap= 'gray')\n",
    "ax[0, 0].set_title('Einstein')\n",
    "ax[0, 1].imshow(aerial, vmin= 0, vmax= 255, cmap= 'gray')\n",
    "ax[0, 1].set_title('Aerial')\n",
    "ax[0, 2].imshow(lenna, vmin= 0, vmax= 255)\n",
    "ax[0, 2].set_title('Lenna')\n",
    "ax[1, 0].stem(einstein_hist, markerfmt=' ', linefmt= 'k')\n",
    "ax[1, 0].set_title('Histogram')\n",
    "ax[1, 1].stem(aerial_hist, markerfmt=' ', linefmt= 'k')\n",
    "ax[1, 1].set_title('Histogram')\n",
    "ax[1, 2].stem(lenna_r_hist, '',  markerfmt='-', linefmt= 'r')\n",
    "ax[1, 2].stem(lenna_g_hist, '',  markerfmt='-', linefmt= 'g')\n",
    "ax[1, 2].stem(lenna_b_hist, '',  markerfmt='-', linefmt= 'b')\n",
    "ax[1, 2].set_title('Histogram')\n",
    "\n",
    "for i, ax in enumerate(fig.axes):\n",
    "    if i < 3:\n",
    "        ax.set_xticks([])\n",
    "        ax.set_yticks([])\n",
    "    else:\n",
    "        ax.set_xticks([0, 255])\n",
    "\n",
    "plt.show()"
   ]
  },
  {
   "cell_type": "code",
   "execution_count": null,
   "metadata": {},
   "outputs": [],
   "source": [
    "fig, ax = plt.subplots(nrows= 2, ncols= 3, figsize= (12, 8), layout= 'constrained')\n",
    "fig.suptitle('Histogram')\n",
    "\n",
    "ax[0, 0].imshow(lenna_r, vmin= 0, vmax= 255, cmap= 'Reds')\n",
    "ax[0, 0].set_title('red')\n",
    "ax[0, 1].imshow(lenna_g, vmin= 0, vmax= 255, cmap= 'Greens')\n",
    "ax[0, 1].set_title('green')\n",
    "ax[0, 2].imshow(lenna_b, vmin= 0, vmax= 255, cmap= 'Blues')\n",
    "ax[0, 2].set_title('blue')\n",
    "ax[1, 0].stem(lenna_r_hist, markerfmt=' ', linefmt= 'r')\n",
    "ax[1, 0].set_title('Histogram')\n",
    "ax[1, 1].stem(lenna_g_hist, markerfmt=' ', linefmt= 'g')\n",
    "ax[1, 1].set_title('Histogram')\n",
    "ax[1, 2].stem(lenna_b_hist, markerfmt=' ', linefmt= 'b')\n",
    "ax[1, 2].set_title('Histogram')\n",
    "\n",
    "for i, ax in enumerate(fig.axes):\n",
    "    if i < 3:\n",
    "        ax.set_xticks([])\n",
    "        ax.set_yticks([])\n",
    "    else:\n",
    "        ax.set_xticks([0, 255])\n",
    "\n",
    "plt.show()"
   ]
  },
  {
   "cell_type": "markdown",
   "metadata": {},
   "source": [
    "#### 1. Histogram Stretching. Shrinking, Sliding"
   ]
  },
  {
   "cell_type": "code",
   "execution_count": null,
   "metadata": {},
   "outputs": [],
   "source": [
    "# histogram stretching\n",
    "einstein_stretch_1      = histogram_scale(einstein, 40, 200)\n",
    "einstein_stretch_1_hist = histogram_2d(einstein_stretch_1, rng= 256)\n",
    "einstein_stretch_2      = histogram_scale(einstein, 0, 255)\n",
    "einstein_stretch_2_hist = histogram_2d(einstein_stretch_2, rng= 256)\n",
    "\n",
    "# plot\n",
    "fig, ax = plt.subplots(nrows= 2, ncols= 3, figsize= (12, 10), layout= 'compressed')\n",
    "fig.suptitle('Histogram stretching')\n",
    "\n",
    "ax[0, 0].imshow(einstein, vmin= 0, vmax= 255, cmap= 'gray')\n",
    "ax[0, 0].set_title('Original')\n",
    "ax[0, 1].imshow(einstein_stretch_1, vmin= 0, vmax= 255, cmap= 'gray')\n",
    "ax[0, 1].set_title('einstein_stretch_1')\n",
    "ax[0, 2].imshow(einstein_stretch_2, vmin= 0, vmax= 255, cmap= 'gray')\n",
    "ax[0, 2].set_title('einstein_stretch_2')\n",
    "ax[1, 0].stem(einstein_hist, markerfmt= ' ', linefmt= 'k')\n",
    "ax[1, 0].set_title('Histogram')\n",
    "ax[1, 1].stem(einstein_stretch_1_hist, markerfmt= ' ', linefmt= 'k')\n",
    "ax[1, 1].set_title('Histogram')\n",
    "ax[1, 2].stem(einstein_stretch_2_hist, markerfmt= ' ', linefmt= 'k')\n",
    "ax[1, 2].set_title('Histogram')\n",
    "\n",
    "for i, ax in enumerate(fig.axes):\n",
    "    if i < 3:\n",
    "        ax.set_xticks([])\n",
    "        ax.set_yticks([])\n",
    "    else:\n",
    "        ax.set_xticks([0, 255])\n",
    "        \n",
    "plt.show()"
   ]
  },
  {
   "cell_type": "code",
   "execution_count": null,
   "metadata": {},
   "outputs": [],
   "source": [
    "# histogram shrinking\n",
    "lenna_shrink   = histogram_scale(lenna, 100, 150)\n",
    "lenna_shrink_r = lenna_shrink[:, :, 0]\n",
    "lenna_shrink_g = lenna_shrink[:, :, 1]\n",
    "lenna_shrink_b = lenna_shrink[:, :, 2]\n",
    "\n",
    "lenna_shrink_r_hist, _ = np.histogram(lenna_shrink_r, bins= 256, range= [0, 255])\n",
    "lenna_shrink_g_hist, _ = np.histogram(lenna_shrink_g, bins= 256, range= [0, 255])\n",
    "lenna_shrink_b_hist, _ = np.histogram(lenna_shrink_b, bins= 256, range= [0, 255])\n",
    "\n",
    "# plot\n",
    "fig, ax = plt.subplots(nrows= 2, ncols= 2, figsize= (8, 8), layout= 'compressed')\n",
    "fig.suptitle('Histogram shrinking')\n",
    "\n",
    "ax[0, 0].imshow(lenna, vmin= 0, vmax= 255)\n",
    "ax[0, 0].set_title('Original lenna')\n",
    "ax[0, 1].imshow(lenna_shrink, vmin= 0, vmax= 255)\n",
    "ax[0, 1].set_title('Shrinked lenna')\n",
    "ax[1, 0].stem(lenna_r_hist, '',  markerfmt= '-', linefmt= 'r')\n",
    "ax[1, 0].stem(lenna_g_hist, '',  markerfmt= '-', linefmt= 'g')\n",
    "ax[1, 0].stem(lenna_b_hist, '',  markerfmt= '-', linefmt= 'b')\n",
    "ax[1, 0].set_title('Histogram')\n",
    "ax[1, 1].stem(lenna_shrink_r_hist, '',  markerfmt= '-', linefmt= 'r')\n",
    "ax[1, 1].stem(lenna_shrink_g_hist, '',  markerfmt= '-', linefmt= 'g')\n",
    "ax[1, 1].stem(lenna_shrink_b_hist, '',  markerfmt= '-', linefmt= 'b')\n",
    "ax[1, 1].set_title('Histogram')\n",
    "\n",
    "for i, ax in enumerate(fig.axes):\n",
    "    if i < 2:\n",
    "        ax.set_xticks([])\n",
    "        ax.set_yticks([])\n",
    "    else:\n",
    "        ax.set_xticks([0, 255])\n",
    "\n",
    "plt.show()"
   ]
  },
  {
   "cell_type": "code",
   "execution_count": null,
   "metadata": {},
   "outputs": [],
   "source": [
    "# histogram sliding\n",
    "einstein_diff = np.max(einstein) - np.min(einstein)\n",
    "\n",
    "einstein_slide_1         = einstein + (255 - np.max(einstein))\n",
    "einstein_slide_1_hist, _ = np.histogram(einstein_slide_1, bins= 256, range= [0, 255])\n",
    "\n",
    "einstein_slide_2         = einstein - np.min(einstein) + 1\n",
    "einstein_slide_2_hist, _ = np.histogram(einstein_slide_2, bins= 256, range= [0, 255])\n",
    "\n",
    "# plot\n",
    "fig, ax = plt.subplots(nrows= 2, ncols= 3, figsize= (12, 8), layout= 'compressed')\n",
    "fig.suptitle('Histogram sliding')\n",
    "\n",
    "ax[0, 0].imshow(einstein, vmin= 0, vmax= 255, cmap= 'gray')\n",
    "ax[0, 0].set_title('Original')\n",
    "ax[0, 1].imshow(einstein_slide_1, vmin= 0, vmax= 255, cmap= 'gray')\n",
    "ax[0, 1].set_title('Right slide')\n",
    "ax[0, 2].imshow(einstein_slide_2, vmin= 0, vmax= 255, cmap= 'gray')\n",
    "ax[0, 2].set_title('Left slide')\n",
    "ax[1, 0].stem(einstein_hist, markerfmt= ' ', linefmt= 'k')\n",
    "ax[1, 0].set_title('Histogram')\n",
    "ax[1, 1].stem(einstein_slide_1_hist, markerfmt= ' ', linefmt= 'k')\n",
    "ax[1, 1].set_title('Histogram')\n",
    "ax[1, 2].stem(einstein_slide_2_hist, markerfmt= ' ', linefmt= 'k')\n",
    "ax[1, 2].set_title('Histogram')\n",
    "\n",
    "for i, ax in enumerate(fig.axes):\n",
    "    if i < 3:\n",
    "        ax.set_xticks([])\n",
    "        ax.set_yticks([])\n",
    "    else:\n",
    "        ax.set_xticks([0, 255])\n",
    "        \n",
    "plt.show()"
   ]
  },
  {
   "cell_type": "markdown",
   "metadata": {},
   "source": [
    "##### Data loss in histogram shrinking"
   ]
  },
  {
   "cell_type": "code",
   "execution_count": null,
   "metadata": {},
   "outputs": [],
   "source": [
    "# histogram stretching : no data loss\n",
    "einstein_stretch_3 = histogram_scale(einstein, lower_range= 0, upper_range= 255)\n",
    "einstein_stretch_3_hist, _ = np.histogram(einstein_stretch_3, bins= 256, range= [0, 255])\n",
    "\n",
    "einstein_shrink_3  = histogram_scale(einstein_stretch_3, lower_range= np.min(einstein), upper_range= np.max(einstein))\n",
    "einstein_shrink_3_hist, _ = np.histogram(einstein_shrink_3, bins= 256, range= [0, 255])\n",
    "\n",
    "# plot\n",
    "fig, ax = plt.subplots(nrows= 2, ncols= 3, figsize= (16, 8), layout= 'compressed')\n",
    "fig.suptitle('stretching : no data-loss')\n",
    "\n",
    "ax[0, 0].imshow(einstein, cmap= 'gray', vmin= 0, vmax= 255)\n",
    "ax[0, 0].set_title('Original')\n",
    "ax[1, 0].stem(einstein_hist, markerfmt= '-', linefmt= 'k')\n",
    "ax[1, 0].set_title('Histogram')\n",
    "\n",
    "ax[0, 1].imshow(einstein_stretch_3, cmap= 'gray', vmin= 0, vmax= 255)\n",
    "ax[0, 1].set_title('stretch(Original)')\n",
    "ax[1, 1].stem(einstein_stretch_3_hist, markerfmt= '-', linefmt= 'k')\n",
    "ax[1, 1].set_title('Histogram')\n",
    "\n",
    "ax[0, 2].imshow(einstein_shrink_3, cmap= 'gray', vmin= 0, vmax= 255)\n",
    "ax[0, 2].set_title('shrink(stretch(Original))')\n",
    "ax[1, 2].stem(einstein_shrink_3_hist, markerfmt= '-', linefmt= 'k')\n",
    "ax[1, 2].set_title('Histogram')\n",
    "\n",
    "for i, ax in enumerate(fig.axes):\n",
    "    if i < 3:\n",
    "        ax.set_xticks([])\n",
    "        ax.set_yticks([])\n",
    "    else:\n",
    "        ax.set_xticks([0, 255])\n",
    "        \n",
    "plt.show()"
   ]
  },
  {
   "cell_type": "code",
   "execution_count": null,
   "metadata": {},
   "outputs": [],
   "source": [
    "# histogram shrinking : data loss\n",
    "einstein_shrink_4  = histogram_scale(einstein, lower_range= 105, upper_range= 125)\n",
    "einstein_shrink_4_hist, _ = np.histogram(einstein_shrink_4, bins= 256, range= [0, 255])\n",
    "\n",
    "einstein_stretch_4 = histogram_scale(einstein_shrink_4, lower_range= np.min(einstein), upper_range= np.max(einstein))\n",
    "einstein_stretch_4_hist, _ = np.histogram(einstein_stretch_4, bins= 256, range= [0, 255])\n",
    "\n",
    "# plot\n",
    "fig, ax = plt.subplots(nrows= 2, ncols= 3, figsize= (16, 8), layout= 'compressed')\n",
    "fig.suptitle('shrinking : data-loss')\n",
    "\n",
    "ax[0, 0].imshow(einstein, cmap= 'gray', vmin= 0, vmax= 255)\n",
    "ax[0, 0].set_title('Original')\n",
    "ax[1, 0].stem(einstein_hist, markerfmt= '-', linefmt= 'k')\n",
    "ax[1, 0].set_title('Histogram')\n",
    "ax[0, 1].imshow(einstein_shrink_4, cmap= 'gray', vmin= 0, vmax= 255)\n",
    "ax[0, 1].set_title('shrink(Original)')\n",
    "ax[1, 1].stem(einstein_shrink_4_hist, markerfmt= '-', linefmt= 'k')\n",
    "ax[1, 1].set_title('Histogram')\n",
    "ax[0, 2].imshow(einstein_stretch_4, cmap= 'gray', vmin= 0, vmax= 255)\n",
    "ax[0, 2].set_title('stretch(shrink(Original))')\n",
    "ax[1, 2].stem(einstein_stretch_4_hist, markerfmt= '-', linefmt= 'k')\n",
    "ax[1, 2].set_title('Histogram')\n",
    "\n",
    "for i, ax in enumerate(fig.axes):\n",
    "    if i < 3:\n",
    "        ax.set_xticks([])\n",
    "        ax.set_yticks([])\n",
    "    else:\n",
    "        ax.set_xticks([0, 255])\n",
    "\n",
    "plt.show()"
   ]
  },
  {
   "cell_type": "markdown",
   "metadata": {},
   "source": [
    "#### 2. Global Histogram Equalization"
   ]
  },
  {
   "cell_type": "code",
   "execution_count": null,
   "metadata": {},
   "outputs": [],
   "source": [
    "# manual implementation\n",
    "aerial_histeq_1 = histogram_equalization(aerial)\n",
    "aerial_histeq_1_hist, _ = np.histogram(aerial_histeq_1, bins= 256, range= [0, 255])\n",
    "\n",
    "# using cv2.equalizeHist\n",
    "aerial_histeq_2 = cv2.equalizeHist(aerial)\n",
    "aerial_histeq_2_hist, _ = np.histogram(aerial_histeq_2, bins= 256, range= [0, 255])\n",
    "\n",
    "# plot\n",
    "fig, ax = plt.subplots(nrows= 2, ncols= 3, figsize= (16, 8), layout= 'compressed')\n",
    "fig.suptitle(\"Global Histogram Equalization\")\n",
    "\n",
    "ax[0, 0].imshow(aerial, cmap= 'gray', vmin= 0, vmax= 255)\n",
    "ax[0, 0].set_title('Original')\n",
    "ax[1, 0].stem(aerial_hist, markerfmt= ' ', linefmt= 'k')\n",
    "ax[1, 0].set_title('Histogram')\n",
    "ax[0, 1].imshow(aerial_histeq_1, cmap= 'gray', vmin= 0, vmax= 255)\n",
    "ax[0, 1].set_title('aerial_histeq_1')\n",
    "ax[1, 1].stem(aerial_histeq_1_hist, markerfmt= ' ', linefmt= 'k')\n",
    "ax[1, 1].set_title('Histogram')\n",
    "ax[0, 2].imshow(aerial_histeq_2, cmap= 'gray', vmin= 0, vmax= 255)\n",
    "ax[0, 2].set_title('aerial_histeq_2')\n",
    "ax[1, 2].stem(aerial_histeq_2_hist, markerfmt= ' ', linefmt= 'k')\n",
    "ax[1, 2].set_title('Histogram')\n",
    "\n",
    "for i, ax in enumerate(fig.axes):\n",
    "    if i < 3:\n",
    "        ax.set_xticks([])\n",
    "        ax.set_yticks([])\n",
    "    else:\n",
    "        ax.set_xticks([0, 255])\n",
    "\n",
    "plt.show()"
   ]
  },
  {
   "cell_type": "markdown",
   "metadata": {},
   "source": [
    "#### 3. Local Histogram Equalization (Adaptive Histogram Equalization)"
   ]
  },
  {
   "cell_type": "code",
   "execution_count": null,
   "metadata": {},
   "outputs": [],
   "source": [
    "square_hist, _ = np.histogram(square, bins= 256, range= (0, 255))\n",
    "\n",
    "square_global = histogram_equalization(square)\n",
    "square_global_hist, _ = np.histogram(square_global, bins= 256, range= (0, 255))\n",
    "\n",
    "square_local = local_histogram_equalization(square, windows_size= [32, 32])\n",
    "square_local_hist, _ = np.histogram(square_local, bins= 256, range= (0, 255))\n",
    "\n",
    "# plot\n",
    "fig, ax = plt.subplots(nrows= 2, ncols= 3, figsize= (16, 8), layout= 'compressed')\n",
    "fig.suptitle(\"Local Histogram Equalization\")\n",
    "\n",
    "ax[0, 0].imshow(square, cmap= 'gray', vmin= 0, vmax= 255)\n",
    "ax[0, 0].set_title('Original')\n",
    "ax[1, 0].stem(square_hist, markerfmt= ' ', linefmt= 'k')\n",
    "ax[1, 0].set_title('Histogram')\n",
    "ax[0, 1].imshow(square_global, cmap= 'gray', vmin= 0, vmax= 255)\n",
    "ax[0, 1].set_title('im_global')\n",
    "ax[1, 1].stem(square_global_hist, markerfmt= ' ', linefmt= 'k')\n",
    "ax[1, 1].set_title('Histogram')\n",
    "ax[0, 2].imshow(square_local, cmap= 'gray', vmin= 0, vmax= 255)\n",
    "ax[0, 2].set_title('im_local')\n",
    "ax[1, 2].stem(square_local_hist, markerfmt= ' ', linefmt= 'k')\n",
    "ax[1, 2].set_title('Histogram')\n",
    "\n",
    "for i, ax in enumerate(fig.axes):\n",
    "    if i < 3:\n",
    "        ax.set_xticks([])\n",
    "        ax.set_yticks([])\n",
    "    else:\n",
    "        ax.set_xticks([0, 255])\n",
    "\n",
    "plt.show()"
   ]
  },
  {
   "cell_type": "markdown",
   "metadata": {},
   "source": [
    "#### 4. Adaptive Contrast Enhancement (ACE)"
   ]
  },
  {
   "cell_type": "code",
   "execution_count": null,
   "metadata": {},
   "outputs": [],
   "source": []
  },
  {
   "cell_type": "markdown",
   "metadata": {},
   "source": [
    "#### 5. Historam Matching (Specification)"
   ]
  },
  {
   "cell_type": "code",
   "execution_count": null,
   "metadata": {},
   "outputs": [],
   "source": []
  }
 ],
 "metadata": {
  "kernelspec": {
   "display_name": "Python 3",
   "language": "python",
   "name": "python3"
  },
  "language_info": {
   "codemirror_mode": {
    "name": "ipython",
    "version": 3
   },
   "file_extension": ".py",
   "mimetype": "text/x-python",
   "name": "python",
   "nbconvert_exporter": "python",
   "pygments_lexer": "ipython3",
   "version": "3.12.2"
  }
 },
 "nbformat": 4,
 "nbformat_minor": 2
}
